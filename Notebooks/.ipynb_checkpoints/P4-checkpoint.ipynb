{
 "cells": [
  {
   "cell_type": "markdown",
   "metadata": {},
   "source": [
    "# Ciencia de datos\n",
    "## Práctica 4. Visualización de la información con plotly\n",
    "### Alberto Benavides"
   ]
  },
  {
   "cell_type": "markdown",
   "metadata": {},
   "source": [
    "De los datos correspondientes a los registros obtenidos de los PDFs de la Secretaría de Salud de México"
   ]
  },
  {
   "cell_type": "code",
   "execution_count": 18,
   "metadata": {},
   "outputs": [
    {
     "name": "stdout",
     "output_type": "stream",
     "text": [
      "       anio  sem                 enfermedad  casos cie\n",
      "1490   2005   39             dengue clasico    877   a\n",
      "12277  2011   22               paratifoidea   2964   a\n",
      "2752   2006   19  fiebre del oeste del nilo      0   a\n"
     ]
    }
   ],
   "source": [
    "import pandas as pd\n",
    "\n",
    "data1 = pd.read_csv(\"D:/FIME/Epidemia/Data/csvSemanales/nacional.csv\")\n",
    "data1.loc[:, 'cie'] = data1['cie'].astype(str).str[0]\n",
    "\n",
    "print(data1.sample(3))"
   ]
  },
  {
   "cell_type": "markdown",
   "metadata": {},
   "source": [
    "y estos mismos preprocesados"
   ]
  },
  {
   "cell_type": "code",
   "execution_count": 19,
   "metadata": {},
   "outputs": [
    {
     "name": "stdout",
     "output_type": "stream",
     "text": [
      "                m        f1        f2        f3        f4       ac1       ac2  \\\n",
      "115 -5.463182e-11  0.015556  0.048889  0.011111  0.093333  0.054472  0.057301   \n",
      "29   9.659402e-06  0.074074  0.037037  0.055556  0.277778  0.491323  0.319953   \n",
      "82   9.968533e-06  0.018519  0.055556  0.314815  0.148148  0.620741  0.501475   \n",
      "\n",
      "          ac4       ac8      ac16      ac32  \\\n",
      "115  0.008021  0.055546  0.034398 -0.058524   \n",
      "29  -0.010259 -0.304980  0.104215 -0.035158   \n",
      "82   0.305287  0.080027  0.083921 -0.034888   \n",
      "\n",
      "                                             enf cie  cluster  \n",
      "115                            RUBEOLA CONGENITA   P        6  \n",
      "29   PEATON LESIONADO EN ACCIDENTE DE TRANSPORTE   V        6  \n",
      "82                                    ADICCIONES   F        0  \n"
     ]
    }
   ],
   "source": [
    "data2 = pd.read_csv(\"D:/FIME/Epidemia/Data/semanalesTodasKmeans.csv\")\n",
    "print(data2.sample(3))"
   ]
  },
  {
   "cell_type": "markdown",
   "metadata": {},
   "source": [
    "se pueden mostrar visualizaciones de los resultados de las estadísticas básicas reportadas. Empezaremos por mostrar un diagrama de cantidad de registros por letra inicia de CIE de los datos extraidos de los PDFs"
   ]
  },
  {
   "cell_type": "code",
   "execution_count": 22,
   "metadata": {},
   "outputs": [
    {
     "name": "stdout",
     "output_type": "stream",
     "text": [
      "a    10017\n",
      "b     5010\n",
      "t     1460\n",
      "j     1242\n",
      "u      999\n",
      "w      681\n",
      "i      665\n",
      "g      548\n",
      "x      454\n",
      "p      440\n",
      "z      406\n",
      "e      364\n",
      "n      208\n",
      "q      208\n",
      "f      207\n",
      "k      181\n",
      "y      111\n",
      "h      104\n",
      "c      104\n",
      "v      104\n",
      "s      104\n",
      "r       52\n",
      "o       52\n",
      "Name: cie, dtype: int64\n"
     ]
    }
   ],
   "source": [
    " # https://plot.ly/python/pie-charts/\n",
    "print(data1['cie'].value_counts())"
   ]
  },
  {
   "cell_type": "markdown",
   "metadata": {},
   "source": [
    "De modo que las enfermedades cuya CIE inicia con la letra A ocupan el 42.2% de los registros. \n",
    "\n",
    "Ahora bien, se puede obtener una descripción de los datos agrupados por número de casos registrados y letra inicial de CIE"
   ]
  },
  {
   "cell_type": "code",
   "execution_count": 30,
   "metadata": {},
   "outputs": [],
   "source": [
    "# https://plot.ly/python/box-plots/\n",
    "import numpy as np\n",
    "boxes = []\n",
    "plt.figure()\n",
    "for cie in data1.groupby(['cie']):\n",
    "    boxes.append(np.log(cie[1][cie[1]['casos'] > 0]['casos']))\n",
    "plt.boxplot(boxes)\n",
    "plt.savefig('P4/boxplotCIE')\n",
    "plt.show()\n",
    "plt.close()"
   ]
  },
  {
   "cell_type": "markdown",
   "metadata": {},
   "source": [
    "Al preprocesar los datos, se agrupan las enfermedades por primera letra de la CIE y se descubre que los grupos A y B contienen la mayoría de los registros, contando un 31.19% y un 19.57% respectivamente."
   ]
  },
  {
   "cell_type": "code",
   "execution_count": null,
   "metadata": {},
   "outputs": [],
   "source": [
    "# https://stackoverflow.com/a/51453257\n",
    "pd.options.display.max_columns\n",
    "\n",
    "print(data2['cie'].value_counts())"
   ]
  },
  {
   "cell_type": "code",
   "execution_count": null,
   "metadata": {},
   "outputs": [],
   "source": [
    "import matplotlib as mpl \n",
    "mpl.use('agg')\n",
    "import matplotlib.pyplot as plt\n",
    "\n",
    "for cie in data2.groupby(['cluster']):\n",
    "    fig = plt.figure(figsize=(22,10))\n",
    "    plt.title('Cluster {}'.format(cie[0]))\n",
    "    i = 1\n",
    "    for feature in cie[1]:\n",
    "        if feature == \"enf\":\n",
    "            break\n",
    "        else:\n",
    "            # https://stackoverflow.com/a/28396902\n",
    "            ax = fig.add_subplot(1, 11, i)\n",
    "            ax.set_xlabel(feature)\n",
    "            i = i + 1\n",
    "            # ax.boxplot(np.array(cie[1][feature]).astype(np.float))\n",
    "            plt.boxplot(cie[1][feature])\n",
    "    fig.savefig('P4/cluster{}.png'.format(cie[0]))\n",
    "    fig.tight_layout(pad=0.4, w_pad=1, h_pad=1.0)\n",
    "    plt.close(fig)"
   ]
  },
  {
   "cell_type": "code",
   "execution_count": null,
   "metadata": {},
   "outputs": [],
   "source": [
    "for feature in data2:\n",
    "    if feature != \"enf\" and feature != 'cie' and feature != 'cluster':\n",
    "        fig = plt.figure(figsize=(20,10))\n",
    "        plt.title(feature)\n",
    "        boxes = []\n",
    "        i = 1\n",
    "        for clust in data2.groupby(['cluster']):\n",
    "            # https://stackoverflow.com/a/28396902\n",
    "            i = i + 1\n",
    "            boxes.append(clust[1][feature])\n",
    "        plt.boxplot(boxes)\n",
    "        fig.savefig('P4/{}.png'.format(feature))\n",
    "        fig.tight_layout(pad=0.4, w_pad=1, h_pad=1.0)\n",
    "        plt.close(fig)"
   ]
  },
  {
   "cell_type": "code",
   "execution_count": null,
   "metadata": {},
   "outputs": [],
   "source": [
    "from sklearn.decomposition import PCA\n",
    "pca = PCA(n_components=3)\n",
    "\n",
    "from mpl_toolkits.mplot3d import Axes3D  # noqa: F401 unused import\n",
    "ti = data2.loc[:, data2.columns != 'enf']\n",
    "\n",
    "ti = ti.loc[:, ti.columns != 'cie']\n",
    "ti = ti.loc[:, ti.columns != 'cluster']\n",
    "features = pca.fit_transform(ti)\n",
    "\n",
    "plt.close(fig)\n",
    "fig = plt.figure()\n",
    "ax = fig.add_subplot(111, projection='3d')\n",
    "ax.scatter(features[:,0], features[:,1], features[:,2], c=data2['cluster'])\n",
    "plt.savefig(\"P4/scater3d.png\")\n",
    "plt.show()\n",
    "plt.close(fig)"
   ]
  },
  {
   "cell_type": "code",
   "execution_count": null,
   "metadata": {},
   "outputs": [],
   "source": [
    "pca = PCA(n_components=2)\n",
    "\n",
    "features = pca.fit_transform(ti)\n",
    "\n",
    "fig = plt.figure()\n",
    "plt.scatter(features[:,0], features[:,1], c=data2['cluster'])\n",
    "plt.savefig(\"P4/scater.png\")\n",
    "plt.close(fig)"
   ]
  },
  {
   "cell_type": "markdown",
   "metadata": {},
   "source": [
    "También se obtuvieron las [correlaciones](https://www.dummies.com/education/math/statistics/how-to-interpret-a-correlation-coefficient-r/) existentes entre las características de los datos preprocesados, siendo de interés aquéllas que guardan correlación con el tipo de cluster asignado por $k$-medias"
   ]
  },
  {
   "cell_type": "code",
   "execution_count": null,
   "metadata": {},
   "outputs": [],
   "source": [
    "# https://pandas.pydata.org/pandas-docs/stable/reference/api/pandas.factorize.html\n",
    "data2['cie'], uniques = pd.factorize(data2['cie']) \n",
    "\n",
    "#https://stackoverflow.com/a/19483025\n",
    "#print(list(data.corr()))\n",
    "\n",
    "import seaborn as sns\n",
    "\n",
    "fig = plt.figure() \n",
    "corr = data2.corr()\n",
    "plt.matshow(corr)\n",
    "plt.xticks(range(len(corr.columns)), corr.columns, rotation='vertical');\n",
    "plt.yticks(range(len(corr.columns)), corr.columns);\n",
    "# https://stackoverflow.com/a/42323184\n",
    "sns.heatmap(corr, \n",
    "        xticklabels=corr.columns,\n",
    "        yticklabels=corr.columns)\n",
    "plt.savefig(\"P4/corr.png\")\n",
    "plt.close(fig)"
   ]
  },
  {
   "cell_type": "markdown",
   "metadata": {},
   "source": [
    "Finalmente, se seleccionan las características de los datos"
   ]
  },
  {
   "cell_type": "code",
   "execution_count": null,
   "metadata": {},
   "outputs": [],
   "source": [
    "features = [\"m\", \"f1\", \"f2\", \"f3\", \"f4\", \"ac1\", \"ac2\", \"ac4\", \"ac8\", \"ac16\", \"ac32\"]\n",
    "x = data2.loc[:, features].values"
   ]
  },
  {
   "cell_type": "markdown",
   "metadata": {},
   "source": [
    "se normalizan "
   ]
  },
  {
   "cell_type": "code",
   "execution_count": null,
   "metadata": {},
   "outputs": [],
   "source": [
    "# https://scikit-learn.org/stable/modules/generated/sklearn.preprocessing.MinMaxScaler.html\n",
    "from sklearn.preprocessing import MinMaxScaler\n",
    "x = MinMaxScaler().fit(x).transform(x)"
   ]
  },
  {
   "cell_type": "markdown",
   "metadata": {},
   "source": [
    "y con estas características normalizadas se puede hacer una selección a partir del umbral de varianza"
   ]
  },
  {
   "cell_type": "code",
   "execution_count": null,
   "metadata": {},
   "outputs": [],
   "source": [
    "# https://stackoverflow.com/a/7670325\n",
    "print(\"Columnas iniciales = {}\".format(x.shape[1]))\n",
    "\n",
    "# https://scikit-learn.org/stable/modules/generated/sklearn.feature_selection.VarianceThreshold.html#sklearn.feature_selection.VarianceThreshold\n",
    "from sklearn.feature_selection import VarianceThreshold\n",
    "th = 0.01 # .8 * (1 - .8)\n",
    "print(\"Umbral de varianza = {}\".format(th))\n",
    "sel = VarianceThreshold(threshold=th)\n",
    "x = sel.fit_transform(x)\n",
    "# https://stackoverflow.com/q/39812885\n",
    "dataSelected = data2[data2.columns[sel.get_support(indices=True)]]"
   ]
  },
  {
   "cell_type": "markdown",
   "metadata": {},
   "source": [
    "y mostrar sus correlaciones"
   ]
  },
  {
   "cell_type": "code",
   "execution_count": null,
   "metadata": {
    "scrolled": false
   },
   "outputs": [],
   "source": [
    "# https://pandas.pydata.org/pandas-docs/stable/user_guide/indexing.html\n",
    "dataSelected = dataSelected.assign(cluster=data2[['cie']])\n",
    "\n",
    "fig = plt.figure()\n",
    "corr = dataSelected.corr()\n",
    "plt.matshow(corr)\n",
    "plt.xticks(range(len(corr.columns)), corr.columns, rotation='vertical');\n",
    "plt.yticks(range(len(corr.columns)), corr.columns);\n",
    "# https://stackoverflow.com/a/42323184\n",
    "sns.heatmap(corr, \n",
    "        xticklabels=corr.columns,\n",
    "        yticklabels=corr.columns)\n",
    "plt.savefig(\"P4/corrSelected.png\")\n",
    "plt.close(fig)"
   ]
  },
  {
   "cell_type": "code",
   "execution_count": null,
   "metadata": {},
   "outputs": [],
   "source": [
    "trace = go.Scatter(\n",
    "    x = data['ac2'],\n",
    "    y = data['f1'],\n",
    "    mode = 'markers',\n",
    "     marker=dict(\n",
    "        color=labels.astype(data['cluster'])\n",
    "    )\n",
    ")\n",
    "\n",
    "scatter = [trace]\n",
    "\n",
    "py.iplot(scatter, filename='basic-scatter')"
   ]
  },
  {
   "cell_type": "markdown",
   "metadata": {},
   "source": [
    "* Boxplots de features contra clusters; otro de clusters contra features\n",
    "* Gráfica por cluster qué series de tiempo tiene cada cluster\n",
    "* Incluir lo de síntomas (de preferencia en inglés)\n",
    "* Grupos parecidos; puede haber un grupo... Explicar grupos (definir) \n",
    "* Revisar clusters significativos\n",
    "* Utilizar sólo cies reportadas en todos los años y revisar si estadísticamente son distintas\n",
    "\n",
    "\n",
    "P6\n",
    "\n",
    "* Cluster id por atributos\n",
    "* Cluster contra otros clusters\n",
    "* Cluster por letras\n",
    "\n",
    "Regresión múltiple\n",
    "* Cie y cluster en función de los atributos"
   ]
  }
 ],
 "metadata": {
  "kernelspec": {
   "display_name": "Python 3",
   "language": "python",
   "name": "python3"
  },
  "language_info": {
   "codemirror_mode": {
    "name": "ipython",
    "version": 3
   },
   "file_extension": ".py",
   "mimetype": "text/x-python",
   "name": "python",
   "nbconvert_exporter": "python",
   "pygments_lexer": "ipython3",
   "version": "3.7.0"
  }
 },
 "nbformat": 4,
 "nbformat_minor": 2
}
