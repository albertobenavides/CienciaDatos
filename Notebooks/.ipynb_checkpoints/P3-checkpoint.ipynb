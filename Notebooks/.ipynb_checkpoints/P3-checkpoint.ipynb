{
 "cells": [
  {
   "cell_type": "markdown",
   "metadata": {},
   "source": [
    "# Ciencia de datos\n",
    "## Práctica 3. Estadística descriptiva básica\n",
    "### Alberto Benavides"
   ]
  },
  {
   "cell_type": "markdown",
   "metadata": {},
   "source": [
    "A partir de los datos limpios, es posible obtener un panorama de los mismos mediante una descripción estadística básica. Los archivos de datos con los que se trabajará son `enf.csv` y `semanalesTodas.csv`. El primero contiene 784660 registros entre los que figuran"
   ]
  },
  {
   "cell_type": "code",
   "execution_count": 242,
   "metadata": {},
   "outputs": [
    {
     "name": "stdout",
     "output_type": "stream",
     "text": [
      "        anio  sem               estado                          enfermedad  \\\n",
      "428761  2011  47   Baja California Sur  influenza a h1n1                     \n",
      "714876  2014  36   Hidalgo              anorexia y bulimia                   \n",
      "405223  2011  22   Guerrero             escarlatina                          \n",
      "663938  2014  24   Guanajuato           tumor maligno del cuello del utero   \n",
      "336686  2010  10   Tlaxcala             sida                                 \n",
      "415084  2011  33   Oaxaca               sifilis adquirida                    \n",
      "572615  2014  2    Morelos              hipertension arterial                \n",
      "777015  2014  52   Queretaro            fiebre tifoidea                      \n",
      "569600  2014  1    Veracruz             fiebre del oeste del nilo            \n",
      "638537  2014  18   Chihuahua            adicciones                           \n",
      "\n",
      "        casos      cie  \n",
      "428761  0.0    j09      \n",
      "714876  1.0    f50      \n",
      "405223  0.0    a38      \n",
      "663938  3.0    c53      \n",
      "336686  0.0    b20-b24  \n",
      "415084  3.0    a51-a53  \n",
      "572615  157.0  i10-i15  \n",
      "777015  1.0    a01.0    \n",
      "569600  0.0    a92.3    \n",
      "638537  0.0    f10-f19  \n"
     ]
    }
   ],
   "source": [
    "import pandas as pd\n",
    "data1 = pd.read_csv(\"D:/FIME/Epidemia/Data/csvSemanales/enf.csv\")\n",
    "print(data1.sample(10))"
   ]
  },
  {
   "cell_type": "markdown",
   "metadata": {},
   "source": [
    "A su vez, `semanalesTodas.csv` tiene 138 registros de los datoa anteriores preprocesados, como por ejemplo"
   ]
  },
  {
   "cell_type": "code",
   "execution_count": 243,
   "metadata": {},
   "outputs": [
    {
     "name": "stdout",
     "output_type": "stream",
     "text": [
      "          # m        f1        f2        f3        f4       ac1       ac2  \\\n",
      "84   0.089752  3.145485  2.641810  2.103169  0.014584 -2.535501  0.872935   \n",
      "115  0.117341 -0.669638 -0.726289 -0.813300 -1.116549 -1.166307 -1.125164   \n",
      "95   0.182978 -0.250573 -0.772247 -0.255807  0.156531  0.403418 -0.120376   \n",
      "93   0.104781 -0.540835  1.591331 -0.624397 -0.316623 -0.125199 -0.004954   \n",
      "40   0.133238 -0.250573 -0.772247  1.710007  1.575993  0.077635  0.515794   \n",
      "42   0.117326 -0.560573 -0.648291 -0.647987  1.585929 -0.870864 -0.001710   \n",
      "3    0.116887  3.110109 -0.571179  0.665668  0.234157 -1.568089 -0.560935   \n",
      "57   0.118971 -0.250573  0.146922  1.587143  0.393108 -0.753710 -1.021002   \n",
      "34   0.112843 -0.540835  1.066092  1.341417  1.339416 -0.278225 -0.255104   \n",
      "113 -0.249967 -0.540835 -0.247008 -0.501534 -1.026354  1.287090  1.015665   \n",
      "\n",
      "          ac3       ac4       ac5       ac6  \\\n",
      "84  -2.123539  1.168302 -1.993798  1.591690   \n",
      "115 -0.853290 -0.935573 -0.687915 -0.623106   \n",
      "95  -0.295535  0.019661  0.411640  0.019916   \n",
      "93  -0.098657 -0.342742  0.189497  0.188404   \n",
      "40   0.247593  0.269593  0.234986 -0.182035   \n",
      "42  -0.620251 -0.717385 -0.675323 -0.442638   \n",
      "3   -1.147260 -0.068722 -1.248616 -0.192296   \n",
      "57  -1.028807 -1.271171 -0.613808 -1.054068   \n",
      "34   0.322193 -0.157418  0.047109  0.017672   \n",
      "113  0.693781  0.178158 -0.096798 -0.402128   \n",
      "\n",
      "                                          enf cie  cluster  \n",
      "84   ENFERMEDAD ALCOHOLICA DEL HIGADO          K   7        \n",
      "115  TETANOS NEONATAL                          A   12       \n",
      "95   ESCABIOSIS                                B   3        \n",
      "93   ENFERMEDAD DE PARKINSON                   G   12       \n",
      "40   DIABETES MELLITUS EN EL EMBARAZO          O   10       \n",
      "42   PALUDISMO POR P. FALCIPARUM               B   0        \n",
      "3    TIFO MURINO                               A   7        \n",
      "57   DISPLASIA CERVICAL SEVERA Y CACU IN SITU  N   6        \n",
      "34   ENFERMEDAD DE ALZHEIMER                   G   6        \n",
      "113  INFLUENZA                                 J   3        \n"
     ]
    }
   ],
   "source": [
    "data2 = pd.read_csv(\"D:/FIME/Epidemia/Data/semanalesTodasKmeans.csv\")\n",
    "print(data2.sample(10))"
   ]
  },
  {
   "cell_type": "markdown",
   "metadata": {},
   "source": [
    "donde \n",
    "* m: Pendiente de la regresión lineal,\n",
    "* f$_i$, $i \\in [1, 4]$: Frecuencia $i$ de Fourier (ordenadas de mayor a menor),\n",
    "* ac$_j$, $j \\in [1, 6]$: Autocorrelaciones para los retrasos de $2^{j-1}$ semanas,\n",
    "* enf: Nombre de la enfermedad,\n",
    "* cie: Primera letra de la CIE correspondiente a la enfermedad,\n",
    "* cluster: Agrupación asignada por algoritmo de $k$-medias."
   ]
  },
  {
   "cell_type": "markdown",
   "metadata": {},
   "source": [
    "Es de interés en este estudio conocer los datos obtenidos nacionalmente, por lo que primero se importan y eligen los registros que cuenten el total de casos de enfermedades registrados por año y semana epidemiológica, lo que se logran con"
   ]
  },
  {
   "cell_type": "code",
   "execution_count": 244,
   "metadata": {},
   "outputs": [
    {
     "name": "stdout",
     "output_type": "stream",
     "text": [
      "        anio  sem estado                        enfermedad     casos      cie\n",
      "29038   2005  24   TOTAL  tuberculosis respiratoria         242.0     a15-a16\n",
      "550946  2013  38   TOTAL  hepatitis virica c                58.0      b17.1  \n",
      "49696   2005  39   TOTAL  infecciones respiratorias agudas  444482.0  j00-j06\n",
      "738006  2014  42   TOTAL  leishmaniasis cutanea             6.0       b55.1  \n",
      "562043  2013  46   TOTAL  meningitis meningococica          6.0       a39.0  \n",
      "684704  2014  29   TOTAL  enfermedad cerebrovascular        736.0     i60-i67\n",
      "335344  2010  9    TOTAL  brucelosis                        36.0      a23    \n",
      "742024  2014  43   TOTAL  escabiosis                        1915.0    b86    \n",
      "41247   2005  33   TOTAL  colera                            0.0       a00    \n",
      "264096  2009  2    TOTAL  varicela                          6500.0    b01    \n"
     ]
    }
   ],
   "source": [
    "# https://cmdlinetips.com/2018/02/how-to-subset-pandas-dataframe-based-on-values-of-a-column/\n",
    "data = data1[data1.estado == \"TOTAL\"]\n",
    "print(data.sample(10))"
   ]
  },
  {
   "cell_type": "markdown",
   "metadata": {},
   "source": [
    "Ahora, se sobreescribe la primer letra de la CIE asignada a cada enfermedad resultante en lugar de su CIE"
   ]
  },
  {
   "cell_type": "code",
   "execution_count": 245,
   "metadata": {},
   "outputs": [
    {
     "name": "stdout",
     "output_type": "stream",
     "text": [
      "        anio  sem estado                            enfermedad     casos cie\n",
      "263667  2009  2    TOTAL  intoxicacion alimentaria bacteriana   508.0     a \n",
      "481904  2012  39   TOTAL  parotiditis infecciosa                83.0      b \n",
      "447144  2012  12   TOTAL  meningitis tuberculosa                2.0       a \n",
      "321947  2009  49   TOTAL  rubeola congenita                     0.0       p \n",
      "232748  2008  28   TOTAL  intoxicacion por veneno de escorpion  5230.0    t \n",
      "267033  2009  5    TOTAL  meningitis tuberculosa                4.0       a \n",
      "742684  2014  43   TOTAL  hipertension arterial                 9344.0    i \n",
      "282643  2009  17   TOTAL  hepatitis virica c                    25.0      b \n",
      "280928  2009  16   TOTAL  infecciones respiratorias agudas      458439.0  j \n",
      "736793  2014  42   TOTAL  neumonias y bronconeumonias           2863.0    j \n"
     ]
    }
   ],
   "source": [
    "# https://stackoverflow.com/a/35552899\n",
    "# https://stackoverflow.com/a/28541443\n",
    "data.loc[:, 'cie'] = data['cie'].astype(str).str[0]\n",
    "print(data.sample(10))"
   ]
  },
  {
   "cell_type": "markdown",
   "metadata": {},
   "source": [
    "Con ello, se puede obtener la cantidad de registros existentes por cada letra inicial de CIE"
   ]
  },
  {
   "cell_type": "code",
   "execution_count": 246,
   "metadata": {},
   "outputs": [
    {
     "name": "stdout",
     "output_type": "stream",
     "text": [
      "a    10017\n",
      "b    5010 \n",
      "t    1460 \n",
      "j    1242 \n",
      "u    999  \n",
      "w    681  \n",
      "i    665  \n",
      "g    548  \n",
      "x    454  \n",
      "p    440  \n",
      "z    406  \n",
      "e    364  \n",
      "q    208  \n",
      "n    208  \n",
      "f    207  \n",
      "k    181  \n",
      "y    111  \n",
      "s    104  \n",
      "h    104  \n",
      "v    104  \n",
      "c    104  \n",
      "o    52   \n",
      "r    52   \n",
      "Name: cie, dtype: int64\n"
     ]
    }
   ],
   "source": [
    " # https://stackoverflow.com/a/22391554\n",
    "print(data['cie'].value_counts())"
   ]
  },
  {
   "cell_type": "markdown",
   "metadata": {},
   "source": [
    "De donde se puede observar que los que inician con la letra A son los más numerosos. Los porcentajes de aparición son"
   ]
  },
  {
   "cell_type": "code",
   "execution_count": 247,
   "metadata": {},
   "outputs": [
    {
     "name": "stdout",
     "output_type": "stream",
     "text": [
      "a    0.422284\n",
      "b    0.211205\n",
      "t    0.061549\n",
      "j    0.052359\n",
      "u    0.042115\n",
      "w    0.028709\n",
      "i    0.028034\n",
      "g    0.023102\n",
      "x    0.019139\n",
      "p    0.018549\n",
      "z    0.017116\n",
      "e    0.015345\n",
      "q    0.008769\n",
      "n    0.008769\n",
      "f    0.008726\n",
      "k    0.007630\n",
      "y    0.004679\n",
      "s    0.004384\n",
      "h    0.004384\n",
      "v    0.004384\n",
      "c    0.004384\n",
      "o    0.002192\n",
      "r    0.002192\n",
      "Name: cie, dtype: float64\n"
     ]
    }
   ],
   "source": [
    "# https://stackoverflow.com/a/24167876\n",
    "print(data['cie'].value_counts(normalize=True))"
   ]
  },
  {
   "cell_type": "markdown",
   "metadata": {},
   "source": [
    "De modo que las enfermedades cuya CIE inicia con la letra A ocupan el 42.23% de los resgistros. \n",
    "\n",
    "Ahora bien, se puede obtener una descripción de los datos agrupados por número de casos registrados y letra inicial de CIE"
   ]
  },
  {
   "cell_type": "code",
   "execution_count": 248,
   "metadata": {},
   "outputs": [
    {
     "name": "stdout",
     "output_type": "stream",
     "text": [
      "       count           mean            std     min      25%      50%  \\\n",
      "cie                                                                    \n",
      "a    10017.0  8238.886593    27267.391977   0.0     0.00     28.0      \n",
      "b    5010.0   1085.947305    2440.398179    0.0     5.00     37.0      \n",
      "c    104.0    119.490385     74.104622      24.0    49.75    80.0      \n",
      "e    364.0    2311.829670    3049.646005    5.0     69.00    295.0     \n",
      "f    207.0    543.859903     545.763387     1.0     52.00    156.0     \n",
      "g    548.0    26.885036      27.256107      0.0     13.00    18.0      \n",
      "h    104.0    9997.173077    2382.303338    1685.0  8332.75  10394.5   \n",
      "i    665.0    1000.296241    2406.767605    2.0     14.00    19.0      \n",
      "j    1242.0   166282.132045  241732.275705  0.0     1787.00  3366.0    \n",
      "k    181.0    12312.386740   12732.622177   0.0     37.00    6570.0    \n",
      "n    208.0    20159.552885   34267.122104   25.0    113.75   865.5     \n",
      "o    52.0     186.134615     32.418240      103.0   173.25   187.5     \n",
      "p    440.0    0.061364       0.249570       0.0     0.00     0.0       \n",
      "q    208.0    10.543269      14.104786      0.0     2.00     4.0       \n",
      "r    52.0     1563.538462    1384.661047    86.0    483.75   1204.5    \n",
      "s    104.0    547.019231     430.921793     13.0    148.75   395.0     \n",
      "t    1460.0   1960.066438    2398.014683    0.0     58.00    764.0     \n",
      "u    999.0    49.612613      94.266013      0.0     5.00     15.0      \n",
      "v    104.0    1277.625000    814.812709     271.0   486.50   1127.0    \n",
      "w    681.0    1501.004405    958.612725     90.0    225.00   1939.0    \n",
      "x    454.0    74.259912      32.156191      15.0    48.00    72.5      \n",
      "y    111.0    153.657658     248.992022     3.0     24.50    79.0      \n",
      "z    406.0    86.403941      35.275416      0.0     63.00    83.5      \n",
      "\n",
      "           75%        max  \n",
      "cie                        \n",
      "a    296.00     149993.0   \n",
      "b    298.00     23013.0    \n",
      "c    194.00     321.0      \n",
      "e    5450.25    8973.0     \n",
      "f    896.00     1698.0     \n",
      "g    26.00      159.0      \n",
      "h    11686.50   13637.0    \n",
      "i    758.00     10642.0    \n",
      "j    384079.00  1184372.0  \n",
      "k    23942.00   32657.0    \n",
      "n    12181.25   91116.0    \n",
      "o    210.00     242.0      \n",
      "p    0.00       2.0        \n",
      "q    12.75      60.0       \n",
      "r    2120.75    5174.0     \n",
      "s    973.25     1193.0     \n",
      "t    4019.50    8743.0     \n",
      "u    54.00      1097.0     \n",
      "v    2067.75    2517.0     \n",
      "w    2282.00    3021.0     \n",
      "x    98.75      167.0      \n",
      "y    183.50     1370.0     \n",
      "z    105.00     189.0      \n"
     ]
    }
   ],
   "source": [
    "print(data.groupby(['cie'])['casos'].describe())"
   ]
  },
  {
   "cell_type": "markdown",
   "metadata": {},
   "source": [
    "Al preprocesar los datos, se agrupan las enfermedades por primera letra de la CIE y se descubre que los grupos A y B contienen la mayoría de los registros, contando un 31.19% y un 19.57% respectivamente."
   ]
  },
  {
   "cell_type": "code",
   "execution_count": 249,
   "metadata": {},
   "outputs": [
    {
     "name": "stdout",
     "output_type": "stream",
     "text": [
      "A    44\n",
      "B    27\n",
      "T    8 \n",
      "E    7 \n",
      "J    6 \n",
      "I    5 \n",
      "Q    4 \n",
      "F    4 \n",
      "N    4 \n",
      "K    4 \n",
      "W    3 \n",
      "G    3 \n",
      "U    3 \n",
      "Y    3 \n",
      "V    2 \n",
      "H    2 \n",
      "C    2 \n",
      "S    2 \n",
      "X    1 \n",
      "Z    1 \n",
      "O    1 \n",
      "P    1 \n",
      "R    1 \n",
      "Name: cie, dtype: int64\n"
     ]
    }
   ],
   "source": [
    "# https://stackoverflow.com/a/51453257\n",
    "pd.options.display.max_columns\n",
    "# pd.set_option('display.max_columns', 500)\n",
    "data = data2\n",
    "print(data['cie'].value_counts())"
   ]
  },
  {
   "cell_type": "code",
   "execution_count": 250,
   "metadata": {},
   "outputs": [
    {
     "name": "stdout",
     "output_type": "stream",
     "text": [
      "A    0.318841\n",
      "B    0.195652\n",
      "T    0.057971\n",
      "E    0.050725\n",
      "J    0.043478\n",
      "I    0.036232\n",
      "Q    0.028986\n",
      "F    0.028986\n",
      "N    0.028986\n",
      "K    0.028986\n",
      "W    0.021739\n",
      "G    0.021739\n",
      "U    0.021739\n",
      "Y    0.021739\n",
      "V    0.014493\n",
      "H    0.014493\n",
      "C    0.014493\n",
      "S    0.014493\n",
      "X    0.007246\n",
      "Z    0.007246\n",
      "O    0.007246\n",
      "P    0.007246\n",
      "R    0.007246\n",
      "Name: cie, dtype: float64\n"
     ]
    }
   ],
   "source": [
    "print(data['cie'].value_counts(normalize = True))"
   ]
  },
  {
   "cell_type": "markdown",
   "metadata": {},
   "source": [
    "También se obtuvo la [correlación](https://www.dummies.com/education/math/statistics/how-to-interpret-a-correlation-coefficient-r/) existente entre la primera letra de la CIE por enfermedad y el cluster asignado por $k$-medias"
   ]
  },
  {
   "cell_type": "code",
   "execution_count": 251,
   "metadata": {},
   "outputs": [
    {
     "name": "stdout",
     "output_type": "stream",
     "text": [
      "-0.1378082827244919\n"
     ]
    }
   ],
   "source": [
    "# https://pandas.pydata.org/pandas-docs/stable/reference/api/pandas.factorize.html\n",
    "data['cie'], uniques = pd.factorize(data['cie']) \n",
    "\n",
    "print(data['cluster'].corr(data['cie']))"
   ]
  },
  {
   "cell_type": "markdown",
   "metadata": {},
   "source": [
    "Finalmente, se seleccionan las características de los datos"
   ]
  },
  {
   "cell_type": "code",
   "execution_count": 252,
   "metadata": {},
   "outputs": [],
   "source": [
    "features = [\"# m\", \"f1\", \"f2\", \"f3\", \"f4\", \"ac1\", \"ac2\", \"ac3\", \"ac4\", \"ac5\", \"ac6\"]\n",
    "x = data.loc[:, features].values"
   ]
  },
  {
   "cell_type": "markdown",
   "metadata": {},
   "source": [
    "se normalizan "
   ]
  },
  {
   "cell_type": "code",
   "execution_count": 253,
   "metadata": {},
   "outputs": [],
   "source": [
    "# https://scikit-learn.org/stable/modules/generated/sklearn.preprocessing.MinMaxScaler.html\n",
    "from sklearn.preprocessing import MinMaxScaler\n",
    "x = MinMaxScaler().fit(x).transform(x)"
   ]
  },
  {
   "cell_type": "markdown",
   "metadata": {},
   "source": [
    "y con estas características normalizadas se puede hacer una selección a partir del umbral de varianza"
   ]
  },
  {
   "cell_type": "code",
   "execution_count": 254,
   "metadata": {
    "scrolled": false
   },
   "outputs": [
    {
     "name": "stdout",
     "output_type": "stream",
     "text": [
      "Columnas iniciales = 11\n",
      "Umbral de varianza = 0.05\n",
      "Columnas finales\n",
      "           f1        f2        f3        f4       ac3       ac4\n",
      "26   0.039688  1.328711  1.832870  1.221127 -0.207999 -0.650651\n",
      "45   0.329949 -0.772247  2.078597 -0.789777 -0.431074 -0.332867\n",
      "25  -0.468270 -0.755833 -0.785655 -1.152036  1.814904  1.658516\n",
      "124 -0.540835  0.278232  1.710007  0.038242 -0.546520 -0.300950\n",
      "90  -0.653311 -0.844468 -0.716545 -0.837093 -0.247101  0.050031\n",
      "77  -0.294113 -0.194484  0.997399  0.972721 -0.505118 -0.696216\n",
      "80  -0.653311 -0.770606 -0.937699 -0.531021  0.488841  0.531799\n",
      "12   1.456164 -0.352056  0.083296 -0.397060 -0.848144 -0.947685\n",
      "46  -0.669638 -0.741061 -0.965343 -1.143164  0.961513  1.015570\n",
      "56  -0.540835  0.015612  0.849963  0.984550  0.027232 -0.386948\n"
     ]
    }
   ],
   "source": [
    "# https://stackoverflow.com/a/7670325\n",
    "print(\"Columnas iniciales = {}\".format(x.shape[1]))\n",
    "\n",
    "# https://scikit-learn.org/stable/modules/generated/sklearn.feature_selection.VarianceThreshold.html#sklearn.feature_selection.VarianceThreshold\n",
    "from sklearn.feature_selection import VarianceThreshold\n",
    "th = 0.05 # .8 * (1 - .8)\n",
    "print(\"Umbral de varianza = {}\".format(th))\n",
    "sel = VarianceThreshold(threshold=th)\n",
    "x = sel.fit_transform(x)\n",
    "print(\"Columnas finales\")\n",
    "# https://stackoverflow.com/q/39812885\n",
    "print(data[data.columns[sel.get_support(indices=True)]].sample(10))"
   ]
  }
 ],
 "metadata": {
  "kernelspec": {
   "display_name": "Python 3",
   "language": "python",
   "name": "python3"
  },
  "language_info": {
   "codemirror_mode": {
    "name": "ipython",
    "version": 3
   },
   "file_extension": ".py",
   "mimetype": "text/x-python",
   "name": "python",
   "nbconvert_exporter": "python",
   "pygments_lexer": "ipython3",
   "version": "3.7.0"
  }
 },
 "nbformat": 4,
 "nbformat_minor": 2
}
