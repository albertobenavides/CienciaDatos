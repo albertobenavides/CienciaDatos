{
 "cells": [
  {
   "cell_type": "markdown",
   "metadata": {},
   "source": [
    "# Ciencia de datos\n",
    "## Práctica 4. Visualización de la información con plotly\n",
    "### Alberto Benavides"
   ]
  },
  {
   "cell_type": "markdown",
   "metadata": {},
   "source": [
    "De los datos correspondientes a los registros obtenidos de los PDFs de la Secretaría de Salud de México"
   ]
  },
  {
   "cell_type": "code",
   "execution_count": 104,
   "metadata": {},
   "outputs": [
    {
     "data": {
      "text/html": [
       "<iframe id=\"igraph\" scrolling=\"no\" style=\"border:none;\" seamless=\"seamless\" src=\"https://plot.ly/~jbenavidesv/26.embed\" height=\"525px\" width=\"100%\"></iframe>"
      ],
      "text/plain": [
       "<plotly.tools.PlotlyDisplay object>"
      ]
     },
     "execution_count": 104,
     "metadata": {},
     "output_type": "execute_result"
    }
   ],
   "source": [
    "import pandas as pd\n",
    "import plotly.plotly as py\n",
    "import plotly.graph_objs as go\n",
    "\n",
    "data1 = pd.read_csv(\"D:/FIME/Epidemia/Data/csvSemanales/enf.csv\")\n",
    "data = data1[data1.estado == \"TOTAL\"]\n",
    "data.loc[:, 'cie'] = data['cie'].astype(str).str[0]\n",
    "\n",
    "# https://plot.ly/python/table/\n",
    "trace = go.Table(\n",
    "    header=dict(\n",
    "        values=list(data),\n",
    "        fill = dict(color='#a1c3d1'),\n",
    "    ),\n",
    "    cells=dict(values=data.sample(10).T)) # https://stackoverflow.com/a/19483025\n",
    "\n",
    "table = [trace] \n",
    "py.iplot(table, filename = 'semanalesTodas')"
   ]
  },
  {
   "cell_type": "markdown",
   "metadata": {},
   "source": [
    "y estos mismos preprocesados"
   ]
  },
  {
   "cell_type": "code",
   "execution_count": 105,
   "metadata": {},
   "outputs": [
    {
     "data": {
      "text/html": [
       "<iframe id=\"igraph\" scrolling=\"no\" style=\"border:none;\" seamless=\"seamless\" src=\"https://plot.ly/~jbenavidesv/26.embed\" height=\"525px\" width=\"100%\"></iframe>"
      ],
      "text/plain": [
       "<plotly.tools.PlotlyDisplay object>"
      ]
     },
     "execution_count": 105,
     "metadata": {},
     "output_type": "execute_result"
    }
   ],
   "source": [
    "data2 = pd.read_csv(\"D:/FIME/Epidemia/Data/semanalesTodasKmeans.csv\")\n",
    "trace = go.Table(\n",
    "    header=dict(\n",
    "        values=list(data2),\n",
    "        fill = dict(color='#a1c3d1'),\n",
    "    ),\n",
    "    cells=dict(values=data2.sample(10).T)) # https://stackoverflow.com/a/19483025\n",
    "\n",
    "table = [trace] \n",
    "py.iplot(table, filename = 'semanalesTodas')"
   ]
  },
  {
   "cell_type": "markdown",
   "metadata": {},
   "source": [
    "se pueden mostrar visualizaciones de los resultados de las estadísticas básicas reportadas. Empezaremos por mostrar un diagrama de cantidad de registros por letra inicia de CIE de los datos extraidos de los PDFs"
   ]
  },
  {
   "cell_type": "code",
   "execution_count": 106,
   "metadata": {},
   "outputs": [
    {
     "data": {
      "text/html": [
       "<iframe id=\"igraph\" scrolling=\"no\" style=\"border:none;\" seamless=\"seamless\" src=\"https://plot.ly/~jbenavidesv/2.embed\" height=\"525px\" width=\"100%\"></iframe>"
      ],
      "text/plain": [
       "<plotly.tools.PlotlyDisplay object>"
      ]
     },
     "execution_count": 106,
     "metadata": {},
     "output_type": "execute_result"
    }
   ],
   "source": [
    " # https://plot.ly/python/pie-charts/\n",
    "x = data['cie'].value_counts()\n",
    "\n",
    "values = x.values\n",
    "\n",
    "x = x.to_frame().T\n",
    "\n",
    "labels = x.columns.values\n",
    "\n",
    "trace = go.Pie(labels = labels, values = values)\n",
    "\n",
    "py.iplot([trace], filename='conteoCIE')"
   ]
  },
  {
   "cell_type": "markdown",
   "metadata": {},
   "source": [
    "De modo que las enfermedades cuya CIE inicia con la letra A ocupan el 42.2% de los registros. \n",
    "\n",
    "Ahora bien, se puede obtener una descripción de los datos agrupados por número de casos registrados y letra inicial de CIE"
   ]
  },
  {
   "cell_type": "code",
   "execution_count": 107,
   "metadata": {},
   "outputs": [
    {
     "data": {
      "text/html": [
       "<iframe id=\"igraph\" scrolling=\"no\" style=\"border:none;\" seamless=\"seamless\" src=\"https://plot.ly/~jbenavidesv/28.embed\" height=\"525px\" width=\"100%\"></iframe>"
      ],
      "text/plain": [
       "<plotly.tools.PlotlyDisplay object>"
      ]
     },
     "execution_count": 107,
     "metadata": {},
     "output_type": "execute_result"
    }
   ],
   "source": [
    "# https://plot.ly/python/box-plots/\n",
    "boxes = []\n",
    "for cie in data.groupby(['cie']):\n",
    "    trace = go.Box(y=cie[1]['casos'], name=str(cie[0]))\n",
    "    boxes.append(trace)\n",
    "py.iplot(boxes)"
   ]
  },
  {
   "cell_type": "markdown",
   "metadata": {},
   "source": [
    "Quizás una mejor visualización del resto de enfermedades, se podría obtener al remover las que inician con j"
   ]
  },
  {
   "cell_type": "code",
   "execution_count": 108,
   "metadata": {},
   "outputs": [
    {
     "data": {
      "text/html": [
       "<iframe id=\"igraph\" scrolling=\"no\" style=\"border:none;\" seamless=\"seamless\" src=\"https://plot.ly/~jbenavidesv/30.embed\" height=\"525px\" width=\"100%\"></iframe>"
      ],
      "text/plain": [
       "<plotly.tools.PlotlyDisplay object>"
      ]
     },
     "execution_count": 108,
     "metadata": {},
     "output_type": "execute_result"
    }
   ],
   "source": [
    "boxes = []\n",
    "for cie in data.groupby(['cie']):\n",
    "    if cie[0] != 'j':\n",
    "        trace = go.Box(y=cie[1]['casos'], name=str(cie[0]))\n",
    "        boxes.append(trace)\n",
    "py.iplot(boxes)"
   ]
  },
  {
   "cell_type": "markdown",
   "metadata": {},
   "source": [
    "Al preprocesar los datos, se agrupan las enfermedades por primera letra de la CIE y se descubre que los grupos A y B contienen la mayoría de los registros, contando un 31.19% y un 19.57% respectivamente."
   ]
  },
  {
   "cell_type": "code",
   "execution_count": 109,
   "metadata": {},
   "outputs": [
    {
     "data": {
      "text/html": [
       "<iframe id=\"igraph\" scrolling=\"no\" style=\"border:none;\" seamless=\"seamless\" src=\"https://plot.ly/~jbenavidesv/12.embed\" height=\"525px\" width=\"100%\"></iframe>"
      ],
      "text/plain": [
       "<plotly.tools.PlotlyDisplay object>"
      ]
     },
     "execution_count": 109,
     "metadata": {},
     "output_type": "execute_result"
    }
   ],
   "source": [
    "# https://stackoverflow.com/a/51453257\n",
    "pd.options.display.max_columns\n",
    "data = data2\n",
    "\n",
    "x = data['cie'].value_counts()\n",
    "\n",
    "values = x.values\n",
    "\n",
    "x = x.to_frame().T\n",
    "\n",
    "labels = x.columns.values\n",
    "\n",
    "trace = go.Pie(labels = labels, values = values)\n",
    "py.iplot([trace], filename='conteoCIECluster')"
   ]
  },
  {
   "cell_type": "markdown",
   "metadata": {},
   "source": [
    "También se obtuvieron las [correlaciones](https://www.dummies.com/education/math/statistics/how-to-interpret-a-correlation-coefficient-r/) existentes entre las características de los datos preprocesados, siendo de interés aquéllas que guardan correlación con el tipo de cluster asignado por $k$-medias"
   ]
  },
  {
   "cell_type": "code",
   "execution_count": 110,
   "metadata": {},
   "outputs": [
    {
     "data": {
      "text/html": [
       "<iframe id=\"igraph\" scrolling=\"no\" style=\"border:none;\" seamless=\"seamless\" src=\"https://plot.ly/~jbenavidesv/14.embed\" height=\"525px\" width=\"100%\"></iframe>"
      ],
      "text/plain": [
       "<plotly.tools.PlotlyDisplay object>"
      ]
     },
     "execution_count": 110,
     "metadata": {},
     "output_type": "execute_result"
    }
   ],
   "source": [
    "# https://pandas.pydata.org/pandas-docs/stable/reference/api/pandas.factorize.html\n",
    "data['cie'], uniques = pd.factorize(data['cie']) \n",
    "\n",
    "#https://stackoverflow.com/a/19483025\n",
    "#print(list(data.corr()))\n",
    "\n",
    "trace = go.Heatmap(z=data.corr().values, x = list(data.corr()), y= list(data.corr()))\n",
    "corr=[trace]\n",
    "py.iplot(corr, filename='basic-heatmap')"
   ]
  },
  {
   "cell_type": "markdown",
   "metadata": {},
   "source": [
    "Finalmente, se seleccionan las características de los datos"
   ]
  },
  {
   "cell_type": "code",
   "execution_count": 111,
   "metadata": {},
   "outputs": [],
   "source": [
    "features = [\"# m\", \"f1\", \"f2\", \"f3\", \"f4\", \"ac1\", \"ac2\", \"ac3\", \"ac4\", \"ac5\", \"ac6\"]\n",
    "x = data.loc[:, features].values"
   ]
  },
  {
   "cell_type": "markdown",
   "metadata": {},
   "source": [
    "se normalizan "
   ]
  },
  {
   "cell_type": "code",
   "execution_count": 112,
   "metadata": {},
   "outputs": [],
   "source": [
    "# https://scikit-learn.org/stable/modules/generated/sklearn.preprocessing.MinMaxScaler.html\n",
    "from sklearn.preprocessing import MinMaxScaler\n",
    "x = MinMaxScaler().fit(x).transform(x)"
   ]
  },
  {
   "cell_type": "markdown",
   "metadata": {},
   "source": [
    "y con estas características normalizadas se puede hacer una selección a partir del umbral de varianza"
   ]
  },
  {
   "cell_type": "code",
   "execution_count": 113,
   "metadata": {},
   "outputs": [
    {
     "name": "stdout",
     "output_type": "stream",
     "text": [
      "Columnas iniciales = 11\n",
      "Umbral de varianza = 0.05\n",
      "Columnas finales\n"
     ]
    }
   ],
   "source": [
    "# https://stackoverflow.com/a/7670325\n",
    "print(\"Columnas iniciales = {}\".format(x.shape[1]))\n",
    "\n",
    "# https://scikit-learn.org/stable/modules/generated/sklearn.feature_selection.VarianceThreshold.html#sklearn.feature_selection.VarianceThreshold\n",
    "from sklearn.feature_selection import VarianceThreshold\n",
    "th = 0.05 # .8 * (1 - .8)\n",
    "print(\"Umbral de varianza = {}\".format(th))\n",
    "sel = VarianceThreshold(threshold=th)\n",
    "x = sel.fit_transform(x)\n",
    "print(\"Columnas finales\")\n",
    "# https://stackoverflow.com/q/39812885\n",
    "dataSelected = data[data.columns[sel.get_support(indices=True)]]"
   ]
  },
  {
   "cell_type": "markdown",
   "metadata": {},
   "source": [
    "y mostrar sus correlaciones"
   ]
  },
  {
   "cell_type": "code",
   "execution_count": 114,
   "metadata": {
    "scrolled": false
   },
   "outputs": [
    {
     "data": {
      "text/html": [
       "<iframe id=\"igraph\" scrolling=\"no\" style=\"border:none;\" seamless=\"seamless\" src=\"https://plot.ly/~jbenavidesv/14.embed\" height=\"525px\" width=\"100%\"></iframe>"
      ],
      "text/plain": [
       "<plotly.tools.PlotlyDisplay object>"
      ]
     },
     "execution_count": 114,
     "metadata": {},
     "output_type": "execute_result"
    }
   ],
   "source": [
    "# https://pandas.pydata.org/pandas-docs/stable/user_guide/indexing.html\n",
    "#print(data[['cie']])\n",
    "dataSelected = dataSelected.assign(cluster=data[['cie']])\n",
    "\n",
    "trace = go.Heatmap(z=dataSelected.corr().values, x = list(dataSelected.corr()), y= list(dataSelected.corr()))\n",
    "corr=[trace]\n",
    "py.iplot(corr, filename='basic-heatmap')"
   ]
  }
 ],
 "metadata": {
  "kernelspec": {
   "display_name": "Python 3",
   "language": "python",
   "name": "python3"
  },
  "language_info": {
   "codemirror_mode": {
    "name": "ipython",
    "version": 3
   },
   "file_extension": ".py",
   "mimetype": "text/x-python",
   "name": "python",
   "nbconvert_exporter": "python",
   "pygments_lexer": "ipython3",
   "version": "3.7.0"
  }
 },
 "nbformat": 4,
 "nbformat_minor": 2
}
